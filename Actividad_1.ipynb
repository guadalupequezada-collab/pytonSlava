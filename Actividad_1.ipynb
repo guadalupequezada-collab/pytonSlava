{
  "nbformat": 4,
  "nbformat_minor": 0,
  "metadata": {
    "colab": {
      "provenance": [],
      "authorship_tag": "ABX9TyMYCpiD8xZ+XigW5BHdxi+v",
      "include_colab_link": true
    },
    "kernelspec": {
      "name": "python3",
      "display_name": "Python 3"
    },
    "language_info": {
      "name": "python"
    }
  },
  "cells": [
    {
      "cell_type": "markdown",
      "metadata": {
        "id": "view-in-github",
        "colab_type": "text"
      },
      "source": [
        "<a href=\"https://colab.research.google.com/github/guadalupequezada-collab/pytonSlava/blob/main/Actividad_1.ipynb\" target=\"_parent\"><img src=\"https://colab.research.google.com/assets/colab-badge.svg\" alt=\"Open In Colab\"/></a>"
      ]
    },
    {
      "cell_type": "code",
      "execution_count": null,
      "metadata": {
        "id": "D0VPQiIFEJSs"
      },
      "outputs": [],
      "source": []
    },
    {
      "cell_type": "markdown",
      "source": [
        "# Actividad 1\n",
        "Nombre G.Quezada Chico\n",
        "Geografía\n",
        "cucsh"
      ],
      "metadata": {
        "id": "xrDPd0M7Hkwj"
      }
    },
    {
      "cell_type": "code",
      "source": [],
      "metadata": {
        "id": "9xldRLYFH_m4"
      },
      "execution_count": null,
      "outputs": []
    },
    {
      "cell_type": "code",
      "source": [
        "import datetime\n",
        "# hora (tiempo universal coordinado, utc) y fecha\n",
        "now = datetime.datetime.now()\n",
        "print(f\"fecha y hora (utc):{now.strftime('%Y-%m-%d $H:%M')}\")\n"
      ],
      "metadata": {
        "colab": {
          "base_uri": "https://localhost:8080/"
        },
        "id": "bczpEN_5Kr3D",
        "outputId": "402b8419-112d-4f03-f547-c3ac978b11a3"
      },
      "execution_count": 10,
      "outputs": [
        {
          "output_type": "stream",
          "name": "stdout",
          "text": [
            "fecha y hora (utc):2025-09-11 $H:39\n"
          ]
        }
      ]
    },
    {
      "cell_type": "markdown",
      "source": [
        "Etapa 3"
      ],
      "metadata": {
        "id": "jekD6Ol0Vx-C"
      }
    },
    {
      "cell_type": "code",
      "source": [
        "import sys\n",
        "# version de python: {sys.version})"
      ],
      "metadata": {
        "id": "rtdNX2XrR8t6"
      },
      "execution_count": 12,
      "outputs": []
    },
    {
      "cell_type": "code",
      "source": [
        "import platform\n",
        "print (\"\\nparametos del entorno de ejecucion:\")\n",
        "print(f\"sistemaoperativo:{platform.system()}\")\n",
        "print(f\"nombre del nodo:{platform.node()}\")\n",
        "print(f\"arquitectura:{platform.architecture()}\")\n",
        "print(f\"procesador:{platform.processor()}\")"
      ],
      "metadata": {
        "colab": {
          "base_uri": "https://localhost:8080/"
        },
        "id": "a_K6cEQISrJB",
        "outputId": "df58eadd-04c5-4321-c37f-ed6a6f20b02a"
      },
      "execution_count": 17,
      "outputs": [
        {
          "output_type": "stream",
          "name": "stdout",
          "text": [
            "\n",
            "parametos del entorno de ejecucion:\n",
            "sistemaoperativo:Linux\n",
            "nombre del nodo:7367002f0217\n",
            "arquitectura:('64bit', 'ELF')\n",
            "procesador:x86_64\n"
          ]
        }
      ]
    },
    {
      "cell_type": "markdown",
      "source": [
        "Etapa 4"
      ],
      "metadata": {
        "id": "EgUpJ1GeVdVE"
      }
    }
  ]
}