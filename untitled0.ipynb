{
  "nbformat": 4,
  "nbformat_minor": 0,
  "metadata": {
    "colab": {
      "provenance": [],
      "authorship_tag": "ABX9TyNp8ZNR4aW0g9hFYLrmFd0c",
      "include_colab_link": true
    },
    "kernelspec": {
      "name": "python3",
      "display_name": "Python 3"
    },
    "language_info": {
      "name": "python"
    }
  },
  "cells": [
    {
      "cell_type": "markdown",
      "metadata": {
        "id": "view-in-github",
        "colab_type": "text"
      },
      "source": [
        "<a href=\"https://colab.research.google.com/github/guadalupequezada-collab/pytonSlava/blob/main/untitled0.ipynb\" target=\"_parent\"><img src=\"https://colab.research.google.com/assets/colab-badge.svg\" alt=\"Open In Colab\"/></a>"
      ]
    },
    {
      "cell_type": "markdown",
      "source": [
        "Actividad 2\n",
        "Guadalupe Quezada Chico\n",
        "Geografia"
      ],
      "metadata": {
        "id": "jlDKSHoSB2v0"
      }
    },
    {
      "cell_type": "code",
      "source": [
        "from google.colab import drive\n",
        "drive.mount('/content/drive')"
      ],
      "metadata": {
        "colab": {
          "base_uri": "https://localhost:8080/"
        },
        "id": "HrSK1-CNB9A7",
        "outputId": "a2546899-0e09-4625-ebba-d85c40705b48"
      },
      "execution_count": null,
      "outputs": [
        {
          "output_type": "stream",
          "name": "stdout",
          "text": [
            "Drive already mounted at /content/drive; to attempt to forcibly remount, call drive.mount(\"/content/drive\", force_remount=True).\n"
          ]
        }
      ]
    },
    {
      "cell_type": "code",
      "source": [
        "nombre_archico = \"mi ejemplo_de_texto.txt\"\n",
        "path = '/content/drive/MyDrive/colab_data/'\n",
        "file ='ejercicio.txt'\n",
        "\n",
        "with open(path + file, 'r') as f:\n",
        "  d = f.read()\n",
        "  print(d)"
      ],
      "metadata": {
        "colab": {
          "base_uri": "https://localhost:8080/"
        },
        "id": "3quj-8AGHWXD",
        "outputId": "fd5a0a1b-f921-495b-ab99-7b296736cc3f"
      },
      "execution_count": null,
      "outputs": [
        {
          "output_type": "stream",
          "name": "stdout",
          "text": [
            "La ley de la naturaleza se relaciona con los factores bióticos y abióticos que participan de manera conjunta. Éstos se realizará como ejemplo de Python.\n"
          ]
        }
      ]
    }
  ]
}