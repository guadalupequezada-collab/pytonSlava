{
  "nbformat": 4,
  "nbformat_minor": 0,
  "metadata": {
    "colab": {
      "provenance": [],
      "authorship_tag": "ABX9TyOw1mFJu7Yegrc9lvACrq4Q",
      "include_colab_link": true
    },
    "kernelspec": {
      "name": "python3",
      "display_name": "Python 3"
    },
    "language_info": {
      "name": "python"
    }
  },
  "cells": [
    {
      "cell_type": "markdown",
      "metadata": {
        "id": "view-in-github",
        "colab_type": "text"
      },
      "source": [
        "<a href=\"https://colab.research.google.com/github/guadalupequezada-collab/pytonSlava/blob/main/Untitled3.ipynb\" target=\"_parent\"><img src=\"https://colab.research.google.com/assets/colab-badge.svg\" alt=\"Open In Colab\"/></a>"
      ]
    },
    {
      "cell_type": "code",
      "execution_count": 15,
      "metadata": {
        "id": "xrYI4Lj-J4n0"
      },
      "outputs": [],
      "source": [
        "frase = \"el cuerpo sabe lo que quiere cuando el día acaba\""
      ]
    },
    {
      "cell_type": "code",
      "source": [
        "print(frase)\n",
        "print(frase[1])\n",
        "print(frase[5])\n",
        "print(frase[-1])\n",
        "print(frase[0:5])"
      ],
      "metadata": {
        "colab": {
          "base_uri": "https://localhost:8080/"
        },
        "id": "TFnFE1wEKDBy",
        "outputId": "6badaf1c-a3db-4332-b619-485e32901f16"
      },
      "execution_count": 16,
      "outputs": [
        {
          "output_type": "stream",
          "name": "stdout",
          "text": [
            "el cuerpo sabe lo que quiere cuando el día acaba\n",
            "l\n",
            "e\n",
            "a\n",
            "el cu\n"
          ]
        }
      ]
    },
    {
      "cell_type": "code",
      "source": [
        "print(\"cuerpo\" in frase)"
      ],
      "metadata": {
        "colab": {
          "base_uri": "https://localhost:8080/"
        },
        "id": "VZJDMGL2NQe9",
        "outputId": "f4de7888-6eee-4535-cae4-20eb86f2d4f9"
      },
      "execution_count": 19,
      "outputs": [
        {
          "output_type": "stream",
          "name": "stdout",
          "text": [
            "True\n"
          ]
        }
      ]
    },
    {
      "cell_type": "code",
      "source": [
        "print(\"patada in frase\")"
      ],
      "metadata": {
        "colab": {
          "base_uri": "https://localhost:8080/"
        },
        "id": "-fIPAOWqNrWd",
        "outputId": "c25d3029-3c67-474d-b868-5c2b872d7dfc"
      },
      "execution_count": 20,
      "outputs": [
        {
          "output_type": "stream",
          "name": "stdout",
          "text": [
            "patada in frase\n"
          ]
        }
      ]
    },
    {
      "cell_type": "code",
      "source": [
        "print(frase.upper())"
      ],
      "metadata": {
        "colab": {
          "base_uri": "https://localhost:8080/"
        },
        "id": "0Kdo-lFGNa_q",
        "outputId": "94ad41d4-e1bc-49c7-d42c-08c7479cc379"
      },
      "execution_count": 21,
      "outputs": [
        {
          "output_type": "stream",
          "name": "stdout",
          "text": [
            "EL CUERPO SABE LO QUE QUIERE CUANDO EL DÍA ACABA\n"
          ]
        }
      ]
    },
    {
      "cell_type": "code",
      "source": [
        "print(frase.lower())"
      ],
      "metadata": {
        "colab": {
          "base_uri": "https://localhost:8080/"
        },
        "id": "2_VRqwpoOWJh",
        "outputId": "75b10b42-203c-493b-8032-e2c179c38ea6"
      },
      "execution_count": 22,
      "outputs": [
        {
          "output_type": "stream",
          "name": "stdout",
          "text": [
            "el cuerpo sabe lo que quiere cuando el día acaba\n"
          ]
        }
      ]
    },
    {
      "cell_type": "code",
      "source": [
        "frutas = [\"sandia\", \"mango\", \"pera\", \"manzana\"]\n",
        "\n",
        "frutas.append(\"coco\")\n",
        "print(frutas)\n",
        "frutas.insert(2,\"pepino\")\n",
        "print(frutas)\n",
        "frutas.remove(\"mango\")\n",
        "print(frutas)"
      ],
      "metadata": {
        "colab": {
          "base_uri": "https://localhost:8080/"
        },
        "id": "bY6enRttQey5",
        "outputId": "9737bff7-64ce-4d11-ac97-a3a4087c27f0"
      },
      "execution_count": 44,
      "outputs": [
        {
          "output_type": "stream",
          "name": "stdout",
          "text": [
            "['sandia', 'mango', 'pera', 'manzana', 'coco']\n",
            "['sandia', 'mango', 'pepino', 'pera', 'manzana', 'coco']\n",
            "['sandia', 'pepino', 'pera', 'manzana', 'coco']\n"
          ]
        }
      ]
    },
    {
      "cell_type": "code",
      "source": [],
      "metadata": {
        "id": "kUH7NCqHQxns"
      },
      "execution_count": 26,
      "outputs": []
    }
  ]
}