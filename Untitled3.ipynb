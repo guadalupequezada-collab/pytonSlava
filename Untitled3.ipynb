{
  "nbformat": 4,
  "nbformat_minor": 0,
  "metadata": {
    "colab": {
      "provenance": [],
      "authorship_tag": "ABX9TyMZn0dtZR0+2oJ9sYD+jMqX",
      "include_colab_link": true
    },
    "kernelspec": {
      "name": "python3",
      "display_name": "Python 3"
    },
    "language_info": {
      "name": "python"
    }
  },
  "cells": [
    {
      "cell_type": "markdown",
      "metadata": {
        "id": "view-in-github",
        "colab_type": "text"
      },
      "source": [
        "<a href=\"https://colab.research.google.com/github/guadalupequezada-collab/pytonSlava/blob/main/Untitled3.ipynb\" target=\"_parent\"><img src=\"https://colab.research.google.com/assets/colab-badge.svg\" alt=\"Open In Colab\"/></a>"
      ]
    },
    {
      "cell_type": "code",
      "execution_count": 15,
      "metadata": {
        "id": "xrYI4Lj-J4n0"
      },
      "outputs": [],
      "source": [
        "frase = \"el cuerpo sabe lo que quiere cuando el día acaba\""
      ]
    },
    {
      "cell_type": "code",
      "source": [
        "print(frase)\n",
        "print(frase[1])\n",
        "print(frase[5])\n",
        "print(frase[-1])\n",
        "print(frase[0:5])"
      ],
      "metadata": {
        "colab": {
          "base_uri": "https://localhost:8080/"
        },
        "id": "TFnFE1wEKDBy",
        "outputId": "6badaf1c-a3db-4332-b619-485e32901f16"
      },
      "execution_count": 16,
      "outputs": [
        {
          "output_type": "stream",
          "name": "stdout",
          "text": [
            "el cuerpo sabe lo que quiere cuando el día acaba\n",
            "l\n",
            "e\n",
            "a\n",
            "el cu\n"
          ]
        }
      ]
    }
  ]
}