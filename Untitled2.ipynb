{
  "nbformat": 4,
  "nbformat_minor": 0,
  "metadata": {
    "colab": {
      "provenance": [],
      "authorship_tag": "ABX9TyMHy2N79Imj/suyzpQ8pQF0",
      "include_colab_link": true
    },
    "kernelspec": {
      "name": "python3",
      "display_name": "Python 3"
    },
    "language_info": {
      "name": "python"
    }
  },
  "cells": [
    {
      "cell_type": "markdown",
      "metadata": {
        "id": "view-in-github",
        "colab_type": "text"
      },
      "source": [
        "<a href=\"https://colab.research.google.com/github/guadalupequezada-collab/pytonSlava/blob/main/Untitled2.ipynb\" target=\"_parent\"><img src=\"https://colab.research.google.com/assets/colab-badge.svg\" alt=\"Open In Colab\"/></a>"
      ]
    },
    {
      "cell_type": "code",
      "execution_count": null,
      "metadata": {
        "id": "5pmaW6asta84"
      },
      "outputs": [],
      "source": []
    },
    {
      "cell_type": "markdown",
      "source": [
        "Proyecto 1_ChatBot simple\n",
        "Guadalupe Quezada Chico\n",
        "Geografía. CUCSH"
      ],
      "metadata": {
        "id": "oKzB4m6stoUc"
      }
    },
    {
      "cell_type": "code",
      "source": [
        "(¡Hola! Soy un ChatBot, Me crearon en 2025\n",
        "como parte de un ejercicio ¿Y tu nombre es?).\n",
        "\n",
        "nombre = imput (¿Cual es tu nombre?)\n",
        "\n",
        "¿Cual es tu nombre? chico\n",
        "\n",
        "print(nombre)\n",
        "\n"
      ],
      "metadata": {
        "colab": {
          "base_uri": "https://localhost:8080/",
          "height": 106
        },
        "id": "jAmKe5sPuRb4",
        "outputId": "8ae0916d-ac02-432c-e4c8-c94a5b167472"
      },
      "execution_count": 19,
      "outputs": [
        {
          "output_type": "error",
          "ename": "SyntaxError",
          "evalue": "invalid character '¡' (U+00A1) (ipython-input-3557962468.py, line 1)",
          "traceback": [
            "\u001b[0;36m  File \u001b[0;32m\"/tmp/ipython-input-3557962468.py\"\u001b[0;36m, line \u001b[0;32m1\u001b[0m\n\u001b[0;31m    (¡Hola! Soy un ChatBot, Me crearon en 2025\u001b[0m\n\u001b[0m     ^\u001b[0m\n\u001b[0;31mSyntaxError\u001b[0m\u001b[0;31m:\u001b[0m invalid character '¡' (U+00A1)\n"
          ]
        }
      ]
    },
    {
      "cell_type": "code",
      "source": [
        "from __future__ import print_function\n",
        "\n",
        "int [residuo3, = mod 3\n",
        "residuo5, = mod 5\n",
        "residuo7, = mod 7]\n",
        "\n",
        "imput{Edad = (residuo3 * 70 + residuo5 * 21 + residuo7 * 15) mod 105}\n",
        "print(residuo)"
      ],
      "metadata": {
        "colab": {
          "base_uri": "https://localhost:8080/",
          "height": 106
        },
        "id": "NvUZrQn8vz7r",
        "outputId": "f77373b4-1050-4533-8e9f-c3246fb61e41"
      },
      "execution_count": null,
      "outputs": [
        {
          "output_type": "error",
          "ename": "SyntaxError",
          "evalue": "invalid syntax (ipython-input-2227802966.py, line 3)",
          "traceback": [
            "\u001b[0;36m  File \u001b[0;32m\"/tmp/ipython-input-2227802966.py\"\u001b[0;36m, line \u001b[0;32m3\u001b[0m\n\u001b[0;31m    int [residuo3, = mod 3\u001b[0m\n\u001b[0m                   ^\u001b[0m\n\u001b[0;31mSyntaxError\u001b[0m\u001b[0;31m:\u001b[0m invalid syntax\n"
          ]
        }
      ]
    }
  ]
}