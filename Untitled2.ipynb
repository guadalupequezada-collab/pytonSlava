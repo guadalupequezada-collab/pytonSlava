{
  "nbformat": 4,
  "nbformat_minor": 0,
  "metadata": {
    "colab": {
      "provenance": [],
      "authorship_tag": "ABX9TyMzT1qxhAOk0Z7o7OJ1u0sv",
      "include_colab_link": true
    },
    "kernelspec": {
      "name": "python3",
      "display_name": "Python 3"
    },
    "language_info": {
      "name": "python"
    }
  },
  "cells": [
    {
      "cell_type": "markdown",
      "metadata": {
        "id": "view-in-github",
        "colab_type": "text"
      },
      "source": [
        "<a href=\"https://colab.research.google.com/github/guadalupequezada-collab/pytonSlava/blob/main/Untitled2.ipynb\" target=\"_parent\"><img src=\"https://colab.research.google.com/assets/colab-badge.svg\" alt=\"Open In Colab\"/></a>"
      ]
    },
    {
      "cell_type": "code",
      "execution_count": null,
      "metadata": {
        "id": "5pmaW6asta84"
      },
      "outputs": [],
      "source": []
    },
    {
      "cell_type": "markdown",
      "source": [
        "Proyecto 1_ChatBot simple\n",
        "Guadalupe Quezada Chico\n",
        "Geografía. CUCSH"
      ],
      "metadata": {
        "id": "oKzB4m6stoUc"
      }
    },
    {
      "cell_type": "code",
      "source": [
        "¡Hola! Soy un ChatBot\n",
        "Me crearon en 2025 como parte de un ejercicio\n",
        "¿Ytu nombre es?.\n",
        "GQChico\n"
      ],
      "metadata": {
        "colab": {
          "base_uri": "https://localhost:8080/",
          "height": 106
        },
        "id": "jAmKe5sPuRb4",
        "outputId": "33057cfc-7cdd-4c87-a482-17d9e06bdece"
      },
      "execution_count": 1,
      "outputs": [
        {
          "output_type": "error",
          "ename": "SyntaxError",
          "evalue": "invalid character '¡' (U+00A1) (ipython-input-2088125418.py, line 1)",
          "traceback": [
            "\u001b[0;36m  File \u001b[0;32m\"/tmp/ipython-input-2088125418.py\"\u001b[0;36m, line \u001b[0;32m1\u001b[0m\n\u001b[0;31m    ¡Hola! Soy un ChatBot\u001b[0m\n\u001b[0m    ^\u001b[0m\n\u001b[0;31mSyntaxError\u001b[0m\u001b[0;31m:\u001b[0m invalid character '¡' (U+00A1)\n"
          ]
        }
      ]
    },
    {
      "cell_type": "code",
      "source": [
        "from __future__ import print_function\n",
        "\n",
        "residuo3, = mod 3\n",
        "residuo5, = mod 5\n",
        "residuo7, = mod 7\n",
        "\n",
        "imput(Edad = (residuo3 * 70 + residuo5 * 21 + residuo7 * 15) mod 105)\n",
        "print(\"residuo?\")"
      ],
      "metadata": {
        "colab": {
          "base_uri": "https://localhost:8080/",
          "height": 106
        },
        "id": "NvUZrQn8vz7r",
        "outputId": "20c47bbd-f891-4446-a63e-484467c5c7fe"
      },
      "execution_count": 5,
      "outputs": [
        {
          "output_type": "error",
          "ename": "SyntaxError",
          "evalue": "invalid syntax (ipython-input-504376173.py, line 3)",
          "traceback": [
            "\u001b[0;36m  File \u001b[0;32m\"/tmp/ipython-input-504376173.py\"\u001b[0;36m, line \u001b[0;32m3\u001b[0m\n\u001b[0;31m    residuo3, = mod 3\u001b[0m\n\u001b[0m                    ^\u001b[0m\n\u001b[0;31mSyntaxError\u001b[0m\u001b[0;31m:\u001b[0m invalid syntax\n"
          ]
        }
      ]
    }
  ]
}