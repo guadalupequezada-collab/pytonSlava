{
  "nbformat": 4,
  "nbformat_minor": 0,
  "metadata": {
    "colab": {
      "provenance": [],
      "authorship_tag": "ABX9TyPrwdCCf1qMp8X1KaroIfOU",
      "include_colab_link": true
    },
    "kernelspec": {
      "name": "python3",
      "display_name": "Python 3"
    },
    "language_info": {
      "name": "python"
    }
  },
  "cells": [
    {
      "cell_type": "markdown",
      "metadata": {
        "id": "view-in-github",
        "colab_type": "text"
      },
      "source": [
        "<a href=\"https://colab.research.google.com/github/guadalupequezada-collab/pytonSlava/blob/main/Proyecto2convertidor%20divisasUntitled9.ipynb\" target=\"_parent\"><img src=\"https://colab.research.google.com/assets/colab-badge.svg\" alt=\"Open In Colab\"/></a>"
      ]
    },
    {
      "cell_type": "markdown",
      "source": [],
      "metadata": {
        "id": "J4_uV-LtsZLZ"
      }
    },
    {
      "cell_type": "markdown",
      "source": [
        "proyecto 2_convertidor de divisas\n",
        "Guadalupe Quezada Chico\n",
        "Geografia CUCSH"
      ],
      "metadata": {
        "id": "jvVywTQqskEP"
      }
    },
    {
      "cell_type": "code",
      "source": [
        "import json\n",
        "import requests\n",
        "\n",
        "def currency_search(cur):\n",
        "    r = requests.get(\"http://www.floatrates.com/daily/{}.json\".format(cur))\n",
        "    return r.text\n"
      ],
      "metadata": {
        "id": "dV6ZH_Hzsz9n"
      },
      "execution_count": 1,
      "outputs": []
    },
    {
      "cell_type": "code",
      "source": [
        "import json\n",
        "\n",
        "def currency_converter():\n",
        "    while True:\n",
        "        from_currency = input(\"Introduce el código de tres letras de la divisa inicial (ejemplo: MXN): \").upper()\n",
        "        if not from_currency:\n",
        "            break\n",
        "\n",
        "        to_currency = input(\"Introduce el código de tres letras de la divisa destino (ejemplo: USD): \").upper()\n",
        "        amount = float(input(\"Introduce la cantidad que pretendes convertir: \"))\n",
        "\n",
        "        try:\n",
        "            exchange_rates_json = currency_search(from_currency)\n",
        "            exchange_rates = json.loads(exchange_rates_json)\n",
        "\n",
        "            if to_currency in exchange_rates:\n",
        "                converted_amount = amount * exchange_rates[to_currency]['rate']\n",
        "                print(f\"{amount} {from_currency} es igual a {converted_amount:.2f} {to_currency}\")\n",
        "            else:\n",
        "                print(f\"No se encontró la tasa de conversión para {to_currency}.\")\n",
        "\n",
        "        except Exception as e:\n",
        "            print(f\"Ocurrió un error: {e}\")\n",
        "\n",
        "    print(\"¡Gracias por usar el convertidor de divisas!\")\n",
        "\n",
        "currency_converter()"
      ],
      "metadata": {
        "colab": {
          "base_uri": "https://localhost:8080/"
        },
        "id": "w07IqWQGumil",
        "outputId": "94c8b7c6-ad94-4f0e-e867-836db3bfe185"
      },
      "execution_count": 5,
      "outputs": [
        {
          "output_type": "stream",
          "name": "stdout",
          "text": [
            "Introduce el código de tres letras de la divisa inicial (ejemplo: MXN): usd\n",
            "Introduce el código de tres letras de la divisa destino (ejemplo: USD): mxn\n",
            "Introduce la cantidad que pretendes convertir: 1500\n",
            "No se encontró la tasa de conversión para MXN.\n",
            "Introduce el código de tres letras de la divisa inicial (ejemplo: MXN): MXN\n",
            "Introduce el código de tres letras de la divisa destino (ejemplo: USD): USD\n",
            "Introduce la cantidad que pretendes convertir: 1500\n",
            "No se encontró la tasa de conversión para USD.\n",
            "Introduce el código de tres letras de la divisa inicial (ejemplo: MXN): \n",
            "¡Gracias por usar el convertidor de divisas!\n"
          ]
        }
      ]
    }
  ]
}